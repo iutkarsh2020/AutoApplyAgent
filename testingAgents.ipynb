{
 "cells": [
  {
   "cell_type": "code",
   "execution_count": 4,
   "id": "ec738350-2043-416f-a0f2-7f1e837e9fdb",
   "metadata": {
    "scrolled": true
   },
   "outputs": [],
   "source": [
    "import requests\n",
    "\n",
    "import torch\n",
    "from PIL import Image\n",
    "from transformers import AutoProcessor, AutoModelForZeroShotObjectDetection \n",
    "\n",
    "model_id = \"IDEA-Research/grounding-dino-tiny\"\n",
    "# device = \"cuda\" if torch.cuda.is_available() else \"cpu\"\n",
    "device = \"cpu\"\n",
    "\n",
    "processor = AutoProcessor.from_pretrained(model_id, trust_remote_code=True)\n",
    "model = AutoModelForZeroShotObjectDetection.from_pretrained(model_id, trust_remote_code=True).to(device)"
   ]
  },
  {
   "cell_type": "code",
   "execution_count": 13,
   "id": "318e42a8-0f32-4a1f-9eae-8d7a4c94e65d",
   "metadata": {},
   "outputs": [],
   "source": [
    "image_url = \"cat.jpg\"\n",
    "# image = Image.open(requests.get(image_url, stream=True).raw)\n",
    "image = Image.open(image_url).convert(\"RGB\")\n",
    "# Check for cats and remote controls\n",
    "# VERY important: text queries need to be lowercased + end with a dot\n",
    "text = \"cat.\"\n",
    "\n",
    "inputs = processor(images=image, text=text, return_tensors=\"pt\").to(device)\n",
    "with torch.no_grad():\n",
    "    outputs = model(**inputs)\n",
    "\n",
    "results = processor.post_process_grounded_object_detection(\n",
    "    outputs,\n",
    "    inputs.input_ids,\n",
    "    box_threshold=0.4,\n",
    "    text_threshold=0.3,\n",
    "    target_sizes=[image.size[::-1]]\n",
    ")"
   ]
  },
  {
   "cell_type": "code",
   "execution_count": 14,
   "id": "ede5bd26-c6ff-45b0-a49f-721bf475d240",
   "metadata": {},
   "outputs": [
    {
     "data": {
      "text/plain": [
       "[{'scores': tensor([0.9497]),\n",
       "  'boxes': tensor([[140.1010,  36.8892, 488.1628, 295.3597]]),\n",
       "  'text_labels': ['cat'],\n",
       "  'labels': ['cat']}]"
      ]
     },
     "execution_count": 14,
     "metadata": {},
     "output_type": "execute_result"
    }
   ],
   "source": [
    "results"
   ]
  },
  {
   "cell_type": "code",
   "execution_count": null,
   "id": "586211c7-d6a8-4b2b-a60e-f0a830dfecb3",
   "metadata": {},
   "outputs": [],
   "source": []
  },
  {
   "cell_type": "code",
   "execution_count": 11,
   "id": "e3fe2e1f-0755-4f01-9cdc-48ce29416550",
   "metadata": {},
   "outputs": [
    {
     "name": "stdout",
     "output_type": "stream",
     "text": [
      "/opt/anaconda3/bin/python\n"
     ]
    }
   ],
   "source": []
  }
 ],
 "metadata": {
  "kernelspec": {
   "display_name": "Python (Loan Agent)",
   "language": "python",
   "name": "loanagent"
  },
  "language_info": {
   "codemirror_mode": {
    "name": "ipython",
    "version": 3
   },
   "file_extension": ".py",
   "mimetype": "text/x-python",
   "name": "python",
   "nbconvert_exporter": "python",
   "pygments_lexer": "ipython3",
   "version": "3.11.8"
  }
 },
 "nbformat": 4,
 "nbformat_minor": 5
}
