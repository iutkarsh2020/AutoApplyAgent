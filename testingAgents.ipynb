{
 "cells": [
  {
   "cell_type": "code",
   "execution_count": 2,
   "id": "d3e735d3-1df9-4dfd-a2e5-0a71ad0da37e",
   "metadata": {},
   "outputs": [
    {
     "name": "stderr",
     "output_type": "stream",
     "text": [
      "/opt/anaconda3/envs/AutoApplyAgent/lib/python3.9/site-packages/tqdm/auto.py:21: TqdmWarning: IProgress not found. Please update jupyter and ipywidgets. See https://ipywidgets.readthedocs.io/en/stable/user_install.html\n",
      "  from .autonotebook import tqdm as notebook_tqdm\n"
     ]
    }
   ],
   "source": [
    "from ultralyticsplus import YOLO, render_result\n",
    "\n",
    "# load model\n",
    "model = YOLO('foduucom/web-form-ui-field-detection')"
   ]
  },
  {
   "cell_type": "code",
   "execution_count": 3,
   "id": "dacad4c5-a565-4e5c-85db-f9416745e184",
   "metadata": {},
   "outputs": [
    {
     "data": {
      "text/plain": [
       "<ultralyticsplus.ultralytics_utils.YOLO at 0x105a69490>"
      ]
     },
     "execution_count": 3,
     "metadata": {},
     "output_type": "execute_result"
    }
   ],
   "source": [
    "model"
   ]
  },
  {
   "cell_type": "code",
   "execution_count": 7,
   "id": "ffb42304-05a1-4682-a962-1d24a3449504",
   "metadata": {},
   "outputs": [
    {
     "name": "stderr",
     "output_type": "stream",
     "text": [
      "\n",
      "image 1/1 /Users/utkarshsharma/Desktop/Current_Projects/AutoApplyAgent/testss.png: 416x640 1 first-name, 3 last-names, 1 phone-num, 313.8ms\n",
      "Speed: 8.1ms preprocess, 313.8ms inference, 0.9ms postprocess per image at shape (1, 3, 640, 640)\n"
     ]
    },
    {
     "name": "stdout",
     "output_type": "stream",
     "text": [
      "tensor([[6.32000e+02, 6.71000e+02, 2.01700e+03, 8.64000e+02, 4.06714e-01, 2.10000e+01],\n",
      "        [6.27000e+02, 8.80000e+02, 2.02800e+03, 1.08200e+03, 4.06151e-01, 2.70000e+01],\n",
      "        [4.00000e+01, 5.98000e+02, 6.08000e+02, 7.25000e+02, 2.92085e-01, 2.10000e+01],\n",
      "        [6.28000e+02, 6.67000e+02, 2.02900e+03, 8.66000e+02, 2.63097e-01, 1.60000e+01],\n",
      "        [4.30000e+01, 7.49000e+02, 5.94000e+02, 8.80000e+02, 2.50968e-01, 2.10000e+01]])\n"
     ]
    }
   ],
   "source": [
    "# set model parameters\n",
    "model.overrides['conf'] = 0.25  # NMS confidence threshold\n",
    "model.overrides['iou'] = 0.45  # NMS IoU threshold\n",
    "model.overrides['agnostic_nms'] = False  # NMS class-agnostic\n",
    "model.overrides['max_det'] = 1000  # maximum number of detections per image\n",
    "\n",
    "# set image\n",
    "image = 'testss.png'\n",
    "\n",
    "# perform inference\n",
    "results = model.predict(image)\n",
    "\n",
    "# observe results\n",
    "print(results[0].boxes)\n",
    "render = render_result(model=model, image=image, result=results[0])\n",
    "render.show()"
   ]
  },
  {
   "cell_type": "code",
   "execution_count": 6,
   "id": "58abd2a3-9768-42f4-a834-0b16a4240b05",
   "metadata": {},
   "outputs": [
    {
     "data": {
      "text/plain": [
       "[Ultralytics YOLO <class 'ultralytics.yolo.engine.results.Boxes'> masks\n",
       " type: <class 'torch.Tensor'>\n",
       " shape: torch.Size([5, 6])\n",
       " dtype: torch.float32\n",
       "  + tensor([[6.32000e+02, 6.71000e+02, 2.01700e+03, 8.64000e+02, 4.06714e-01, 2.10000e+01],\n",
       "         [6.27000e+02, 8.80000e+02, 2.02800e+03, 1.08200e+03, 4.06151e-01, 2.70000e+01],\n",
       "         [4.00000e+01, 5.98000e+02, 6.08000e+02, 7.25000e+02, 2.92085e-01, 2.10000e+01],\n",
       "         [6.28000e+02, 6.67000e+02, 2.02900e+03, 8.66000e+02, 2.63097e-01, 1.60000e+01],\n",
       "         [4.30000e+01, 7.49000e+02, 5.94000e+02, 8.80000e+02, 2.50968e-01, 2.10000e+01]])]"
      ]
     },
     "execution_count": 6,
     "metadata": {},
     "output_type": "execute_result"
    }
   ],
   "source": [
    "results"
   ]
  },
  {
   "cell_type": "code",
   "execution_count": 9,
   "id": "5ba0ae65-01a6-4477-bf6b-0bbb546124f5",
   "metadata": {},
   "outputs": [],
   "source": [
    "# Load model directly\n",
    "from transformers import AutoModel\n",
    "model = AutoModel.from_pretrained(\"microsoft/layoutlmv3-base\")"
   ]
  }
 ],
 "metadata": {
  "kernelspec": {
   "display_name": "AutoApplyAgent",
   "language": "python",
   "name": "autoapplyagent"
  },
  "language_info": {
   "codemirror_mode": {
    "name": "ipython",
    "version": 3
   },
   "file_extension": ".py",
   "mimetype": "text/x-python",
   "name": "python",
   "nbconvert_exporter": "python",
   "pygments_lexer": "ipython3",
   "version": "3.9.23"
  }
 },
 "nbformat": 4,
 "nbformat_minor": 5
}
